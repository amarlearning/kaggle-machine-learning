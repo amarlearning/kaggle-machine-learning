{
  "cells": [
    {
      "metadata": {
        "_cell_guid": "e81ee64d-e474-4662-9036-ce23df615199",
        "_uuid": "b6269c0e8f417f82daf093dda8fa0da6d2c57d86"
      },
      "cell_type": "markdown",
      "source": "> Lowa's City data for house prices prediction using advanced regression techniques\n"
    },
    {
      "metadata": {
        "_cell_guid": "86b26423-563a-4fa1-a595-89e25ff93089",
        "_uuid": "1c728098629e1301643443b1341556a15c089b2b",
        "trusted": true,
        "_kg_hide-output": true,
        "_kg_hide-input": true,
        "collapsed": true
      },
      "cell_type": "code",
      "source": "import pandas as pd\n\nlowa_file_path = '../input/train.csv'\nlowa_data = pd.read_csv(lowa_file_path)",
      "execution_count": null,
      "outputs": []
    },
    {
      "metadata": {
        "_uuid": "92a2c9eb2314ef6a1f779d4482f60c6379d2fc76"
      },
      "cell_type": "markdown",
      "source": "To print the data summary use .describe() method of pandas"
    },
    {
      "metadata": {
        "trusted": true,
        "collapsed": true,
        "_uuid": "e3c2690c4bd4bba2ddb8266caaa9b77a59eb38fc"
      },
      "cell_type": "code",
      "source": "print(lowa_data.describe())",
      "execution_count": null,
      "outputs": []
    },
    {
      "metadata": {
        "_uuid": "0ac63dc9fbc1b2dfd886138ad75ce5c1e9dd9644"
      },
      "cell_type": "markdown",
      "source": "To view the column names of data set use .columns of pandas"
    },
    {
      "metadata": {
        "trusted": true,
        "collapsed": true,
        "_uuid": "6490113ed8631afe2421797fb9f2125bb2c6eda2"
      },
      "cell_type": "code",
      "source": "print(lowa_data.columns)",
      "execution_count": null,
      "outputs": []
    },
    {
      "metadata": {
        "_uuid": "91000e062907a211571bb20c384a8156f79401d1"
      },
      "cell_type": "markdown",
      "source": "If you want to view a short summary of data set used .head() method of pandas or you can pass a param to head method to view that # of rows,  *head(10)* to only view top 10 rows of dataset"
    },
    {
      "metadata": {
        "trusted": true,
        "collapsed": true,
        "_uuid": "e480d4742fde3979b82e21d074bf179a46204978"
      },
      "cell_type": "code",
      "source": "print(lowa_data.head())",
      "execution_count": null,
      "outputs": []
    },
    {
      "metadata": {
        "_uuid": "431669c8f9bb779eddaa1434c945ef8d46eb8f40"
      },
      "cell_type": "markdown",
      "source": "## **Selecting and Filtering Data Assignment**"
    },
    {
      "metadata": {
        "_uuid": "ac9a301edbb247a9a8a505548b14555f2727bbda"
      },
      "cell_type": "markdown",
      "source": "Print all columns present in dataset"
    },
    {
      "metadata": {
        "trusted": true,
        "collapsed": true,
        "_uuid": "1323d8cb7eac92427187eda0e51f05b7fc0b9af9"
      },
      "cell_type": "code",
      "source": "print(lowa_data.columns)",
      "execution_count": null,
      "outputs": []
    },
    {
      "metadata": {
        "_uuid": "958db4bae54c1e82feb0d1efcc2a51c3bd8465ca"
      },
      "cell_type": "markdown",
      "source": "Cretaed new var *lowa_sales_price* and inserted just sales price data into it and then printing the first 5 rows of sales price column"
    },
    {
      "metadata": {
        "trusted": true,
        "collapsed": true,
        "_uuid": "dfe6ec57e9f999db10fd2a1708708a649fc0c7f8"
      },
      "cell_type": "code",
      "source": "lowa_sales_price = lowa_data.SalePrice\nprint(lowa_sales_price.head(5))",
      "execution_count": null,
      "outputs": []
    },
    {
      "metadata": {
        "_uuid": "7878582fabf920b4d64436e3993b7261c3ae9106"
      },
      "cell_type": "markdown",
      "source": "Picked two variables(columns) and store them to a new DataFrame"
    },
    {
      "metadata": {
        "trusted": true,
        "collapsed": true,
        "_uuid": "39eade0967e19bf0902db98d264bdb023ef5a853"
      },
      "cell_type": "code",
      "source": "columns_of_interest = ['TotRmsAbvGrd', 'Functional']\ntwo_columns_of_lowa_data = lowa_data[columns_of_interest]",
      "execution_count": null,
      "outputs": []
    },
    {
      "metadata": {
        "_uuid": "1ef227c78d729c3e8eb4d7e367ba4c073d13e435"
      },
      "cell_type": "markdown",
      "source": "Printing the dataset for just the two columns that caught our intrest"
    },
    {
      "metadata": {
        "trusted": true,
        "collapsed": true,
        "_uuid": "e2024e088329e4f562dee99d0c429b1820f7f1db"
      },
      "cell_type": "code",
      "source": "print(two_columns_of_lowa_data.describe())",
      "execution_count": null,
      "outputs": []
    }
  ],
  "metadata": {
    "kernelspec": {
      "display_name": "Python 3",
      "language": "python",
      "name": "python3"
    },
    "language_info": {
      "name": "python",
      "version": "3.6.4",
      "mimetype": "text/x-python",
      "codemirror_mode": {
        "name": "ipython",
        "version": 3
      },
      "pygments_lexer": "ipython3",
      "nbconvert_exporter": "python",
      "file_extension": ".py"
    }
  },
  "nbformat": 4,
  "nbformat_minor": 1
}
