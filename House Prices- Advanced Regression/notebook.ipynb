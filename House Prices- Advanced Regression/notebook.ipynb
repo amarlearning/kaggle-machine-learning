{
  "cells": [
    {
      "metadata": {
        "_cell_guid": "e81ee64d-e474-4662-9036-ce23df615199",
        "_uuid": "b6269c0e8f417f82daf093dda8fa0da6d2c57d86"
      },
      "cell_type": "markdown",
      "source": "# Introduction\n**This will be your workspace for Kaggle's Machine Learning education track.**\n\nYou will build and continually improve a model to predict housing prices as you work through each tutorial.  Fork this notebook and write your code in it.\n\nThe data from the tutorial, the Melbourne data, is not available in this workspace.  You will need to translate the concepts to work with the data in this notebook, the Iowa data.\n\nCome to the [Learn Discussion](https://www.kaggle.com/learn-forum) forum for any questions or comments. \n\n# Write Your Code Below\n\n"
    },
    {
      "metadata": {
        "_cell_guid": "86b26423-563a-4fa1-a595-89e25ff93089",
        "_uuid": "1c728098629e1301643443b1341556a15c089b2b",
        "trusted": true,
        "_kg_hide-output": true,
        "_kg_hide-input": true,
        "collapsed": true
      },
      "cell_type": "code",
      "source": "import pandas as pd\n\nlowa_file_path = '../input/train.csv'\nlowa_data = pd.read_csv(lowa_file_path)\n\n# to print the data summary use .describe() method of pandas\n# print(lowa_data.describe())\n\n# to view the column names of data set use .columns of pandas\n# print(lowa_data.columns)\n\n# if you want to view a short summary of data set used .head() method of pandas\n# or you can pass a param to head method to view that # of rows. ex: .head(10)\n# to only view top 10 rows of dataset\n# print(lowa_data.head())\n\n\n#  Selecting and Filtering Data Assignment\n\n# print all columns present in dataset\nprint(lowa_data.columns)\n\n# cretaed new var 'lowa_sales_price' and inserted just sales price data into it.\n# And then printing the first 5 rows of sales price column\nlowa_sales_price = lowa_data.SalePrice\nprint(lowa_sales_price.head(5))\n\n# Picked two variables(columns) and store them to a new DataFrame\ncolumns_of_interest = ['TotRmsAbvGrd', 'Functional']\ntwo_columns_of_lowa_data = lowa_data[columns_of_interest]\n\n# printing the dataset for just the two columns that caught our intrest\nprint(two_columns_of_lowa_data.describe())",
      "execution_count": null,
      "outputs": []
    }
  ],
  "metadata": {
    "kernelspec": {
      "display_name": "Python 3",
      "language": "python",
      "name": "python3"
    },
    "language_info": {
      "name": "python",
      "version": "3.6.4",
      "mimetype": "text/x-python",
      "codemirror_mode": {
        "name": "ipython",
        "version": 3
      },
      "pygments_lexer": "ipython3",
      "nbconvert_exporter": "python",
      "file_extension": ".py"
    }
  },
  "nbformat": 4,
  "nbformat_minor": 1
}
