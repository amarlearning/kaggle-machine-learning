{
  "cells": [
    {
      "metadata": {
        "_cell_guid": "e81ee64d-e474-4662-9036-ce23df615199",
        "_uuid": "b6269c0e8f417f82daf093dda8fa0da6d2c57d86"
      },
      "cell_type": "markdown",
      "source": "> Lowa's City data for house prices prediction using advanced regression techniques\n"
    },
    {
      "metadata": {
        "_uuid": "1c728098629e1301643443b1341556a15c089b2b",
        "_kg_hide-input": true,
        "_cell_guid": "86b26423-563a-4fa1-a595-89e25ff93089",
        "collapsed": true,
        "_kg_hide-output": true,
        "trusted": false
      },
      "cell_type": "code",
      "source": "import pandas as pd\n\nlowa_file_path = '../input/train.csv'\nlowa_data = pd.read_csv(lowa_file_path)",
      "execution_count": null,
      "outputs": []
    },
    {
      "metadata": {
        "_cell_guid": "3eeb4af0-0e55-4bf3-8df5-1954021d8bd3",
        "_uuid": "63314aad9dd3d847043f30aa3d456a1ac0861db5"
      },
      "cell_type": "markdown",
      "source": "To print the data summary use .describe() method of pandas"
    },
    {
      "metadata": {
        "_cell_guid": "37a1c36f-cd9d-482f-b7bf-d3c4f42f5949",
        "_uuid": "4432e14263d61953f0470cecbf0617a7256fb456",
        "collapsed": true,
        "trusted": false
      },
      "cell_type": "code",
      "source": "print(lowa_data.describe())",
      "execution_count": null,
      "outputs": []
    },
    {
      "metadata": {
        "_cell_guid": "32081912-9560-4390-8c79-a57ec80ddcd8",
        "_uuid": "e3ef522ee30feea246cd29cdb9a7d9d30c8c45d3"
      },
      "cell_type": "markdown",
      "source": "To view the column names of data set use .columns of pandas"
    },
    {
      "metadata": {
        "_uuid": "f385aba1bf3248ad260132ec0a6d6b535203faab",
        "_kg_hide-input": true,
        "_cell_guid": "0efb441c-221b-4857-a3cc-76f611aa4d24",
        "collapsed": true,
        "_kg_hide-output": true,
        "trusted": false
      },
      "cell_type": "code",
      "source": "print(lowa_data.columns)",
      "execution_count": null,
      "outputs": []
    },
    {
      "metadata": {
        "_cell_guid": "bc080fa7-573a-464b-b726-8ae48b523272",
        "_uuid": "afa14ec39bfd62dba290ff5df7c9cc1be69a6c79"
      },
      "cell_type": "markdown",
      "source": "If you want to view a short summary of data set used .head() method of pandas or you can pass a param to head method to view that # of rows,  *head(10)* to only view top 10 rows of dataset"
    },
    {
      "metadata": {
        "_cell_guid": "4fcac6f6-b3cb-4b9c-b7d3-ce2f21e9ed8d",
        "_uuid": "254be9821e52c2ebb3979720466c849aa996d3ab",
        "collapsed": true,
        "trusted": false
      },
      "cell_type": "code",
      "source": "print(lowa_data.head())",
      "execution_count": null,
      "outputs": []
    },
    {
      "metadata": {
        "_cell_guid": "1ce5611a-8e3a-4508-b783-0c261e62cc89",
        "_uuid": "2c55f2ebc01070346ca7cda9a0491284b364cdae"
      },
      "cell_type": "markdown",
      "source": "## **Selecting and Filtering Data Assignment**"
    },
    {
      "metadata": {
        "_cell_guid": "70c97949-4491-4d39-93cb-314c131a5b59",
        "_uuid": "ecbb31e9a1e0cd765000de541bfea3ce3ed01b33"
      },
      "cell_type": "markdown",
      "source": "Print all columns present in dataset"
    },
    {
      "metadata": {
        "_cell_guid": "1a46a419-096c-4601-baba-80b556f2d7d8",
        "_uuid": "cba1c5f3a1a8618120441142c3e0cfbc2a35c58e",
        "collapsed": true,
        "trusted": false
      },
      "cell_type": "code",
      "source": "print(lowa_data.columns)",
      "execution_count": null,
      "outputs": []
    },
    {
      "metadata": {
        "_cell_guid": "fbbbd7a0-2650-4c60-ba08-5e886293ec4c",
        "_uuid": "8d1e5a554be16258f6604edadda1877c6ab4e632"
      },
      "cell_type": "markdown",
      "source": "Cretaed new var *lowa_sales_price* and inserted just sales price data into it and then printing the first 5 rows of sales price column"
    },
    {
      "metadata": {
        "_cell_guid": "4d923430-9bdf-44dd-9143-ba0b5d42f4d2",
        "_uuid": "54d9dd3da3520f69f8d3a91344113de218d9cc2f",
        "collapsed": true,
        "trusted": false
      },
      "cell_type": "code",
      "source": "lowa_sales_price = lowa_data.SalePrice\nprint(lowa_sales_price.head(5))",
      "execution_count": null,
      "outputs": []
    },
    {
      "metadata": {
        "_cell_guid": "0c90f2a0-987e-4394-b974-59f0daa40e66",
        "_uuid": "9ae8ae7a738a9b325c5c0bdb231775b02c0d5ed3"
      },
      "cell_type": "markdown",
      "source": "Picked two variables(columns) and store them to a new DataFrame"
    },
    {
      "metadata": {
        "_cell_guid": "f28fc01a-c8a0-4e57-8b39-4217e9d998c5",
        "_uuid": "6c81ebbb5f945aee1d1cfcb33cd235627e5fe6c6",
        "collapsed": true,
        "trusted": false
      },
      "cell_type": "code",
      "source": "columns_of_interest = ['MSSubClass', 'SalePrice']\ntwo_columns_of_lowa_data = lowa_data[columns_of_interest]",
      "execution_count": null,
      "outputs": []
    },
    {
      "metadata": {
        "_cell_guid": "4de06bf3-35c2-4956-8d7c-832b695313b4",
        "_uuid": "fa6e71d1a0442c0285738d3d85dbcc61b5410d27"
      },
      "cell_type": "markdown",
      "source": "Printing the dataset for just the two columns that caught our intrest"
    },
    {
      "metadata": {
        "_cell_guid": "76dae186-4758-4c8d-85b0-cc269b9567ce",
        "_uuid": "a10e6fcd2ce368447c8d17f5bf0aa17a41b70116",
        "collapsed": true,
        "trusted": false
      },
      "cell_type": "code",
      "source": "print(two_columns_of_lowa_data.describe())",
      "execution_count": null,
      "outputs": []
    }
  ],
  "metadata": {
    "language_info": {
      "mimetype": "text/x-python",
      "name": "python",
      "nbconvert_exporter": "python",
      "pygments_lexer": "ipython3",
      "version": "3.6.4",
      "file_extension": ".py",
      "codemirror_mode": {
        "version": 3,
        "name": "ipython"
      }
    },
    "kernelspec": {
      "display_name": "Python 3",
      "language": "python",
      "name": "python3"
    }
  },
  "nbformat": 4,
  "nbformat_minor": 1
}
