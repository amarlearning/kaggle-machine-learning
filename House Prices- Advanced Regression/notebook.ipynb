{
  "cells": [
    {
      "metadata": {
        "_cell_guid": "b1076dfc-b9ad-4769-8c92-a6c4dae69d19",
        "_uuid": "8f2839f25d086af736a60e9eeb907d3b93b6e0e5",
        "trusted": true
      },
      "cell_type": "code",
      "source": "# This Python 3 environment comes with many helpful analytics libraries installed\n# It is defined by the kaggle/python docker image: https://github.com/kaggle/docker-python\n# For example, here's several helpful packages to load in \n\nimport numpy as np # linear algebra\nimport pandas as pd # data processing, CSV file I/O (e.g. pd.read_csv)\n\n# Input data files are available in the \"../input/\" directory.\n# For example, running this (by clicking run or pressing Shift+Enter) \n# will list the files in the input directory\n\nimport os\nprint(os.listdir(\"../input\"))\n\n# Any results you write to the current directory are saved as output.",
      "execution_count": 2,
      "outputs": [
        {
          "name": "stdout",
          "output_type": "stream",
          "text": "['train.csv', 'test.csv', 'sample_submission.csv']\n"
        }
      ]
    },
    {
      "metadata": {
        "_cell_guid": "f43c518d-a3f5-41fb-9fd7-4c4e180d230e",
        "_uuid": "822f83d033f08f8713c75bf7a2de02476a19cfb3",
        "collapsed": true,
        "trusted": true
      },
      "cell_type": "code",
      "source": "iowa_train_file_path = '../input/train.csv'\niowa_data = pd.read_csv(iowa_train_file_path)\n\niowa_test_file_path = '../input/test.csv'\niowa_data_test = pd.read_csv(iowa_test_file_path)",
      "execution_count": 3,
      "outputs": []
    },
    {
      "metadata": {
        "_cell_guid": "f097199d-703c-4b34-8ffa-8f7bb8e8a716",
        "_uuid": "3f8ea0015339715e40953c0b1aa48237554e8b19",
        "trusted": true
      },
      "cell_type": "code",
      "source": "iowa_data.describe()\niowa_data_test.describe()",
      "execution_count": 4,
      "outputs": [
        {
          "data": {
            "text/html": "<div>\n<style>\n    .dataframe thead tr:only-child th {\n        text-align: right;\n    }\n\n    .dataframe thead th {\n        text-align: left;\n    }\n\n    .dataframe tbody tr th {\n        vertical-align: top;\n    }\n</style>\n<table border=\"1\" class=\"dataframe\">\n  <thead>\n    <tr style=\"text-align: right;\">\n      <th></th>\n      <th>Id</th>\n      <th>MSSubClass</th>\n      <th>LotFrontage</th>\n      <th>LotArea</th>\n      <th>OverallQual</th>\n      <th>OverallCond</th>\n      <th>YearBuilt</th>\n      <th>YearRemodAdd</th>\n      <th>MasVnrArea</th>\n      <th>BsmtFinSF1</th>\n      <th>...</th>\n      <th>GarageArea</th>\n      <th>WoodDeckSF</th>\n      <th>OpenPorchSF</th>\n      <th>EnclosedPorch</th>\n      <th>3SsnPorch</th>\n      <th>ScreenPorch</th>\n      <th>PoolArea</th>\n      <th>MiscVal</th>\n      <th>MoSold</th>\n      <th>YrSold</th>\n    </tr>\n  </thead>\n  <tbody>\n    <tr>\n      <th>count</th>\n      <td>1459.000000</td>\n      <td>1459.000000</td>\n      <td>1232.000000</td>\n      <td>1459.000000</td>\n      <td>1459.000000</td>\n      <td>1459.000000</td>\n      <td>1459.000000</td>\n      <td>1459.000000</td>\n      <td>1444.000000</td>\n      <td>1458.000000</td>\n      <td>...</td>\n      <td>1458.000000</td>\n      <td>1459.000000</td>\n      <td>1459.000000</td>\n      <td>1459.000000</td>\n      <td>1459.000000</td>\n      <td>1459.000000</td>\n      <td>1459.000000</td>\n      <td>1459.000000</td>\n      <td>1459.000000</td>\n      <td>1459.000000</td>\n    </tr>\n    <tr>\n      <th>mean</th>\n      <td>2190.000000</td>\n      <td>57.378341</td>\n      <td>68.580357</td>\n      <td>9819.161069</td>\n      <td>6.078821</td>\n      <td>5.553804</td>\n      <td>1971.357779</td>\n      <td>1983.662783</td>\n      <td>100.709141</td>\n      <td>439.203704</td>\n      <td>...</td>\n      <td>472.768861</td>\n      <td>93.174777</td>\n      <td>48.313914</td>\n      <td>24.243317</td>\n      <td>1.794380</td>\n      <td>17.064428</td>\n      <td>1.744345</td>\n      <td>58.167923</td>\n      <td>6.104181</td>\n      <td>2007.769705</td>\n    </tr>\n    <tr>\n      <th>std</th>\n      <td>421.321334</td>\n      <td>42.746880</td>\n      <td>22.376841</td>\n      <td>4955.517327</td>\n      <td>1.436812</td>\n      <td>1.113740</td>\n      <td>30.390071</td>\n      <td>21.130467</td>\n      <td>177.625900</td>\n      <td>455.268042</td>\n      <td>...</td>\n      <td>217.048611</td>\n      <td>127.744882</td>\n      <td>68.883364</td>\n      <td>67.227765</td>\n      <td>20.207842</td>\n      <td>56.609763</td>\n      <td>30.491646</td>\n      <td>630.806978</td>\n      <td>2.722432</td>\n      <td>1.301740</td>\n    </tr>\n    <tr>\n      <th>min</th>\n      <td>1461.000000</td>\n      <td>20.000000</td>\n      <td>21.000000</td>\n      <td>1470.000000</td>\n      <td>1.000000</td>\n      <td>1.000000</td>\n      <td>1879.000000</td>\n      <td>1950.000000</td>\n      <td>0.000000</td>\n      <td>0.000000</td>\n      <td>...</td>\n      <td>0.000000</td>\n      <td>0.000000</td>\n      <td>0.000000</td>\n      <td>0.000000</td>\n      <td>0.000000</td>\n      <td>0.000000</td>\n      <td>0.000000</td>\n      <td>0.000000</td>\n      <td>1.000000</td>\n      <td>2006.000000</td>\n    </tr>\n    <tr>\n      <th>25%</th>\n      <td>1825.500000</td>\n      <td>20.000000</td>\n      <td>58.000000</td>\n      <td>7391.000000</td>\n      <td>5.000000</td>\n      <td>5.000000</td>\n      <td>1953.000000</td>\n      <td>1963.000000</td>\n      <td>0.000000</td>\n      <td>0.000000</td>\n      <td>...</td>\n      <td>318.000000</td>\n      <td>0.000000</td>\n      <td>0.000000</td>\n      <td>0.000000</td>\n      <td>0.000000</td>\n      <td>0.000000</td>\n      <td>0.000000</td>\n      <td>0.000000</td>\n      <td>4.000000</td>\n      <td>2007.000000</td>\n    </tr>\n    <tr>\n      <th>50%</th>\n      <td>2190.000000</td>\n      <td>50.000000</td>\n      <td>67.000000</td>\n      <td>9399.000000</td>\n      <td>6.000000</td>\n      <td>5.000000</td>\n      <td>1973.000000</td>\n      <td>1992.000000</td>\n      <td>0.000000</td>\n      <td>350.500000</td>\n      <td>...</td>\n      <td>480.000000</td>\n      <td>0.000000</td>\n      <td>28.000000</td>\n      <td>0.000000</td>\n      <td>0.000000</td>\n      <td>0.000000</td>\n      <td>0.000000</td>\n      <td>0.000000</td>\n      <td>6.000000</td>\n      <td>2008.000000</td>\n    </tr>\n    <tr>\n      <th>75%</th>\n      <td>2554.500000</td>\n      <td>70.000000</td>\n      <td>80.000000</td>\n      <td>11517.500000</td>\n      <td>7.000000</td>\n      <td>6.000000</td>\n      <td>2001.000000</td>\n      <td>2004.000000</td>\n      <td>164.000000</td>\n      <td>753.500000</td>\n      <td>...</td>\n      <td>576.000000</td>\n      <td>168.000000</td>\n      <td>72.000000</td>\n      <td>0.000000</td>\n      <td>0.000000</td>\n      <td>0.000000</td>\n      <td>0.000000</td>\n      <td>0.000000</td>\n      <td>8.000000</td>\n      <td>2009.000000</td>\n    </tr>\n    <tr>\n      <th>max</th>\n      <td>2919.000000</td>\n      <td>190.000000</td>\n      <td>200.000000</td>\n      <td>56600.000000</td>\n      <td>10.000000</td>\n      <td>9.000000</td>\n      <td>2010.000000</td>\n      <td>2010.000000</td>\n      <td>1290.000000</td>\n      <td>4010.000000</td>\n      <td>...</td>\n      <td>1488.000000</td>\n      <td>1424.000000</td>\n      <td>742.000000</td>\n      <td>1012.000000</td>\n      <td>360.000000</td>\n      <td>576.000000</td>\n      <td>800.000000</td>\n      <td>17000.000000</td>\n      <td>12.000000</td>\n      <td>2010.000000</td>\n    </tr>\n  </tbody>\n</table>\n<p>8 rows × 37 columns</p>\n</div>",
            "text/plain": "                Id   MSSubClass  LotFrontage       LotArea  OverallQual  \\\ncount  1459.000000  1459.000000  1232.000000   1459.000000  1459.000000   \nmean   2190.000000    57.378341    68.580357   9819.161069     6.078821   \nstd     421.321334    42.746880    22.376841   4955.517327     1.436812   \nmin    1461.000000    20.000000    21.000000   1470.000000     1.000000   \n25%    1825.500000    20.000000    58.000000   7391.000000     5.000000   \n50%    2190.000000    50.000000    67.000000   9399.000000     6.000000   \n75%    2554.500000    70.000000    80.000000  11517.500000     7.000000   \nmax    2919.000000   190.000000   200.000000  56600.000000    10.000000   \n\n       OverallCond    YearBuilt  YearRemodAdd   MasVnrArea   BsmtFinSF1  \\\ncount  1459.000000  1459.000000   1459.000000  1444.000000  1458.000000   \nmean      5.553804  1971.357779   1983.662783   100.709141   439.203704   \nstd       1.113740    30.390071     21.130467   177.625900   455.268042   \nmin       1.000000  1879.000000   1950.000000     0.000000     0.000000   \n25%       5.000000  1953.000000   1963.000000     0.000000     0.000000   \n50%       5.000000  1973.000000   1992.000000     0.000000   350.500000   \n75%       6.000000  2001.000000   2004.000000   164.000000   753.500000   \nmax       9.000000  2010.000000   2010.000000  1290.000000  4010.000000   \n\n          ...        GarageArea   WoodDeckSF  OpenPorchSF  EnclosedPorch  \\\ncount     ...       1458.000000  1459.000000  1459.000000    1459.000000   \nmean      ...        472.768861    93.174777    48.313914      24.243317   \nstd       ...        217.048611   127.744882    68.883364      67.227765   \nmin       ...          0.000000     0.000000     0.000000       0.000000   \n25%       ...        318.000000     0.000000     0.000000       0.000000   \n50%       ...        480.000000     0.000000    28.000000       0.000000   \n75%       ...        576.000000   168.000000    72.000000       0.000000   \nmax       ...       1488.000000  1424.000000   742.000000    1012.000000   \n\n         3SsnPorch  ScreenPorch     PoolArea       MiscVal       MoSold  \\\ncount  1459.000000  1459.000000  1459.000000   1459.000000  1459.000000   \nmean      1.794380    17.064428     1.744345     58.167923     6.104181   \nstd      20.207842    56.609763    30.491646    630.806978     2.722432   \nmin       0.000000     0.000000     0.000000      0.000000     1.000000   \n25%       0.000000     0.000000     0.000000      0.000000     4.000000   \n50%       0.000000     0.000000     0.000000      0.000000     6.000000   \n75%       0.000000     0.000000     0.000000      0.000000     8.000000   \nmax     360.000000   576.000000   800.000000  17000.000000    12.000000   \n\n            YrSold  \ncount  1459.000000  \nmean   2007.769705  \nstd       1.301740  \nmin    2006.000000  \n25%    2007.000000  \n50%    2008.000000  \n75%    2009.000000  \nmax    2010.000000  \n\n[8 rows x 37 columns]"
          },
          "execution_count": 4,
          "metadata": {},
          "output_type": "execute_result"
        }
      ]
    },
    {
      "metadata": {
        "_cell_guid": "cab9be41-a17b-49a5-9bd1-a1196c62071c",
        "_uuid": "e69afadce835d35e6e758aff1a72d7f52ab2a44d",
        "trusted": true
      },
      "cell_type": "code",
      "source": "# iowa_data.columns\niowa_data_test.columns",
      "execution_count": 5,
      "outputs": [
        {
          "data": {
            "text/plain": "Index(['Id', 'MSSubClass', 'MSZoning', 'LotFrontage', 'LotArea', 'Street',\n       'Alley', 'LotShape', 'LandContour', 'Utilities', 'LotConfig',\n       'LandSlope', 'Neighborhood', 'Condition1', 'Condition2', 'BldgType',\n       'HouseStyle', 'OverallQual', 'OverallCond', 'YearBuilt', 'YearRemodAdd',\n       'RoofStyle', 'RoofMatl', 'Exterior1st', 'Exterior2nd', 'MasVnrType',\n       'MasVnrArea', 'ExterQual', 'ExterCond', 'Foundation', 'BsmtQual',\n       'BsmtCond', 'BsmtExposure', 'BsmtFinType1', 'BsmtFinSF1',\n       'BsmtFinType2', 'BsmtFinSF2', 'BsmtUnfSF', 'TotalBsmtSF', 'Heating',\n       'HeatingQC', 'CentralAir', 'Electrical', '1stFlrSF', '2ndFlrSF',\n       'LowQualFinSF', 'GrLivArea', 'BsmtFullBath', 'BsmtHalfBath', 'FullBath',\n       'HalfBath', 'BedroomAbvGr', 'KitchenAbvGr', 'KitchenQual',\n       'TotRmsAbvGrd', 'Functional', 'Fireplaces', 'FireplaceQu', 'GarageType',\n       'GarageYrBlt', 'GarageFinish', 'GarageCars', 'GarageArea', 'GarageQual',\n       'GarageCond', 'PavedDrive', 'WoodDeckSF', 'OpenPorchSF',\n       'EnclosedPorch', '3SsnPorch', 'ScreenPorch', 'PoolArea', 'PoolQC',\n       'Fence', 'MiscFeature', 'MiscVal', 'MoSold', 'YrSold', 'SaleType',\n       'SaleCondition'],\n      dtype='object')"
          },
          "execution_count": 5,
          "metadata": {},
          "output_type": "execute_result"
        }
      ]
    },
    {
      "metadata": {
        "_cell_guid": "547aa40c-be4a-4ffa-a0ee-f27e005032cd",
        "_uuid": "ff40da3ff8a169875087ce22c8062f50dae2edd5",
        "collapsed": true,
        "trusted": true
      },
      "cell_type": "code",
      "source": "y = iowa_data.SalePrice",
      "execution_count": 6,
      "outputs": []
    },
    {
      "metadata": {
        "_cell_guid": "34a6561c-349d-41e1-b2ec-b8cb0d1bb62d",
        "_uuid": "c01ee9747c6eff56a4bc62e1641176f0f59f0b27",
        "collapsed": true,
        "trusted": true
      },
      "cell_type": "code",
      "source": "predictor_columns = [\n    'LotArea', \n    'YearBuilt', \n    '1stFlrSF', \n    '2ndFlrSF', \n    'FullBath', \n    'BedroomAbvGr', \n    'TotRmsAbvGrd'\n]\n\nX = iowa_data[predictor_columns]",
      "execution_count": 7,
      "outputs": []
    },
    {
      "metadata": {
        "_cell_guid": "33082f69-00dd-4dad-8584-918e9ae6ae40",
        "_uuid": "fa634e139cd2c76a5693b24cfc15b9880f0b2f57",
        "collapsed": true,
        "trusted": true
      },
      "cell_type": "code",
      "source": "test_X = iowa_data_test[predictor_columns]",
      "execution_count": 8,
      "outputs": []
    },
    {
      "metadata": {
        "_cell_guid": "7abd52c3-4315-4414-89a3-432c85d826b1",
        "_uuid": "dd942428b528843048eac61ba2a8cd59932e2c74",
        "collapsed": true,
        "trusted": true
      },
      "cell_type": "code",
      "source": "from sklearn.ensemble import RandomForestRegressor\nfrom sklearn.metrics import mean_absolute_error\nfrom sklearn.model_selection import train_test_split\n\ncolumn_name_X, column_value_X, column_name_y, column_value_y = train_test_split(X, y, random_state = 0)\n\ndef get_mae(max_leaf_nodes, column_name_X, column_value_X, column_name_y, column_value_y):\n    \n    forest_model = RandomForestRegressor(max_leaf_nodes = max_leaf_nodes, random_state=0)\n    forest_model.fit(column_name_X, column_name_y)\n    forest_sales_price_prediction = forest_model.predict(column_value_X)\n    mae = mean_absolute_error(column_value_y, forest_sales_price_prediction)\n    \n    return mae",
      "execution_count": 9,
      "outputs": []
    },
    {
      "metadata": {
        "trusted": true,
        "_uuid": "1385fefdd0a001abe773b99f2b5387b6e168b0b5"
      },
      "cell_type": "code",
      "source": "for max_leaf_nodes in [51, 52, 53, 54, 55, 56, 57, 58, 59, 60, 70, 80, 85, 90, 100]:\n    my_mae = get_mae(max_leaf_nodes, column_name_X, column_value_X, column_name_y, column_value_y)\n    print(\"Max leaf nodes: %d  \\t\\t Mean Absolute Error:  %d\" %(max_leaf_nodes, my_mae))",
      "execution_count": 12,
      "outputs": [
        {
          "name": "stdout",
          "output_type": "stream",
          "text": "Max leaf nodes: 51  \t\t Mean Absolute Error:  23590\nMax leaf nodes: 52  \t\t Mean Absolute Error:  23563\nMax leaf nodes: 53  \t\t Mean Absolute Error:  23546\nMax leaf nodes: 54  \t\t Mean Absolute Error:  23539\nMax leaf nodes: 55  \t\t Mean Absolute Error:  23476\nMax leaf nodes: 56  \t\t Mean Absolute Error:  23437\nMax leaf nodes: 57  \t\t Mean Absolute Error:  23467\nMax leaf nodes: 58  \t\t Mean Absolute Error:  23481\nMax leaf nodes: 59  \t\t Mean Absolute Error:  23575\nMax leaf nodes: 60  \t\t Mean Absolute Error:  23516\nMax leaf nodes: 70  \t\t Mean Absolute Error:  23561\nMax leaf nodes: 80  \t\t Mean Absolute Error:  23699\nMax leaf nodes: 85  \t\t Mean Absolute Error:  23670\nMax leaf nodes: 90  \t\t Mean Absolute Error:  23496\nMax leaf nodes: 100  \t\t Mean Absolute Error:  23650\n"
        }
      ]
    },
    {
      "metadata": {
        "collapsed": true,
        "trusted": true,
        "_uuid": "50a4db4df16bc1686bbf11f6a782fb5f423971be"
      },
      "cell_type": "code",
      "source": "forest_model = RandomForestRegressor(max_leaf_nodes = 56, random_state=0)\nforest_model.fit(X, y)\nforest_sales_price_prediction = forest_model.predict(test_X)",
      "execution_count": null,
      "outputs": []
    },
    {
      "metadata": {
        "_cell_guid": "90f49b84-fcdd-4258-97d3-09ba8f602fa2",
        "_uuid": "e6980add8b6353fbc7ff28076e56228c56d1c6c0",
        "trusted": true
      },
      "cell_type": "code",
      "source": "my_submission = pd.DataFrame({'Id': iowa_data_test.Id, 'SalePrice': forest_sales_price_prediction})\n# you could use any filename. We choose submission here\nmy_submission.to_csv('submission.csv', index=False)",
      "execution_count": 13,
      "outputs": [
        {
          "ename": "NameError",
          "evalue": "name 'forest_sales_price_prediction' is not defined",
          "output_type": "error",
          "traceback": [
            "\u001b[0;31m---------------------------------------------------------------------------\u001b[0m",
            "\u001b[0;31mNameError\u001b[0m                                 Traceback (most recent call last)",
            "\u001b[0;32m<ipython-input-13-d9d2d44dd03d>\u001b[0m in \u001b[0;36m<module>\u001b[0;34m()\u001b[0m\n\u001b[0;32m----> 1\u001b[0;31m \u001b[0mmy_submission\u001b[0m \u001b[0;34m=\u001b[0m \u001b[0mpd\u001b[0m\u001b[0;34m.\u001b[0m\u001b[0mDataFrame\u001b[0m\u001b[0;34m(\u001b[0m\u001b[0;34m{\u001b[0m\u001b[0;34m'Id'\u001b[0m\u001b[0;34m:\u001b[0m \u001b[0miowa_data_test\u001b[0m\u001b[0;34m.\u001b[0m\u001b[0mId\u001b[0m\u001b[0;34m,\u001b[0m \u001b[0;34m'SalePrice'\u001b[0m\u001b[0;34m:\u001b[0m \u001b[0mforest_sales_price_prediction\u001b[0m\u001b[0;34m}\u001b[0m\u001b[0;34m)\u001b[0m\u001b[0;34m\u001b[0m\u001b[0m\n\u001b[0m\u001b[1;32m      2\u001b[0m \u001b[0;31m# you could use any filename. We choose submission here\u001b[0m\u001b[0;34m\u001b[0m\u001b[0;34m\u001b[0m\u001b[0m\n\u001b[1;32m      3\u001b[0m \u001b[0mmy_submission\u001b[0m\u001b[0;34m.\u001b[0m\u001b[0mto_csv\u001b[0m\u001b[0;34m(\u001b[0m\u001b[0;34m'submission.csv'\u001b[0m\u001b[0;34m,\u001b[0m \u001b[0mindex\u001b[0m\u001b[0;34m=\u001b[0m\u001b[0;32mFalse\u001b[0m\u001b[0;34m)\u001b[0m\u001b[0;34m\u001b[0m\u001b[0m\n",
            "\u001b[0;31mNameError\u001b[0m: name 'forest_sales_price_prediction' is not defined"
          ]
        }
      ]
    }
  ],
  "metadata": {
    "kernelspec": {
      "display_name": "Python 3",
      "language": "python",
      "name": "python3"
    },
    "language_info": {
      "codemirror_mode": {
        "name": "ipython",
        "version": 3
      },
      "file_extension": ".py",
      "mimetype": "text/x-python",
      "name": "python",
      "nbconvert_exporter": "python",
      "pygments_lexer": "ipython3",
      "version": "3.6.4"
    }
  },
  "nbformat": 4,
  "nbformat_minor": 1
}
