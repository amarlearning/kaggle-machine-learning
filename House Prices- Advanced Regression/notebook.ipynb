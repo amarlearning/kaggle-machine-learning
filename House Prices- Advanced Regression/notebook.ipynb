{
  "cells": [
    {
      "metadata": {
        "_cell_guid": "b1076dfc-b9ad-4769-8c92-a6c4dae69d19",
        "_uuid": "8f2839f25d086af736a60e9eeb907d3b93b6e0e5",
        "trusted": true,
        "_kg_hide-output": false,
        "_kg_hide-input": false,
        "collapsed": true
      },
      "cell_type": "code",
      "source": "# This Python 3 environment comes with many helpful analytics libraries installed\n# It is defined by the kaggle/python docker image: https://github.com/kaggle/docker-python\n# For example, here's several helpful packages to load in \n\nimport numpy as np # linear algebra\nimport pandas as pd # data processing, CSV file I/O (e.g. pd.read_csv)\n\n# Input data files are available in the \"../input/\" directory.\n# For example, running this (by clicking run or pressing Shift+Enter) \n# will list the files in the input directory\n\nimport os\nprint(os.listdir(\"../input\"))\n\n# Any results you write to the current directory are saved as output.",
      "execution_count": null,
      "outputs": []
    },
    {
      "metadata": {
        "_cell_guid": "f43c518d-a3f5-41fb-9fd7-4c4e180d230e",
        "_uuid": "822f83d033f08f8713c75bf7a2de02476a19cfb3",
        "collapsed": true,
        "trusted": true
      },
      "cell_type": "code",
      "source": "iowa_train_file_path = '../input/train.csv'\niowa_data = pd.read_csv(iowa_train_file_path)\n\niowa_test_file_path = '../input/test.csv'\niowa_data_test = pd.read_csv(iowa_test_file_path)",
      "execution_count": 3,
      "outputs": []
    },
    {
      "metadata": {
        "_cell_guid": "f097199d-703c-4b34-8ffa-8f7bb8e8a716",
        "_uuid": "3f8ea0015339715e40953c0b1aa48237554e8b19",
        "trusted": true,
        "collapsed": true
      },
      "cell_type": "code",
      "source": "iowa_data.describe()\niowa_data_test.describe()",
      "execution_count": null,
      "outputs": []
    },
    {
      "metadata": {
        "_cell_guid": "547aa40c-be4a-4ffa-a0ee-f27e005032cd",
        "_uuid": "ff40da3ff8a169875087ce22c8062f50dae2edd5",
        "collapsed": true,
        "trusted": true
      },
      "cell_type": "code",
      "source": "y = iowa_data.SalePrice",
      "execution_count": 6,
      "outputs": []
    },
    {
      "metadata": {
        "_cell_guid": "34a6561c-349d-41e1-b2ec-b8cb0d1bb62d",
        "_uuid": "c01ee9747c6eff56a4bc62e1641176f0f59f0b27",
        "collapsed": true,
        "trusted": true
      },
      "cell_type": "code",
      "source": "predictor_columns = [\n    'LotArea', \n    'YearBuilt', \n    '1stFlrSF', \n    '2ndFlrSF', \n    'FullBath', \n    'BedroomAbvGr', \n    'TotRmsAbvGrd'\n]\n\nX = iowa_data[predictor_columns]",
      "execution_count": 7,
      "outputs": []
    },
    {
      "metadata": {
        "_cell_guid": "33082f69-00dd-4dad-8584-918e9ae6ae40",
        "_uuid": "fa634e139cd2c76a5693b24cfc15b9880f0b2f57",
        "collapsed": true,
        "trusted": true
      },
      "cell_type": "code",
      "source": "test_X = iowa_data_test[predictor_columns]",
      "execution_count": 8,
      "outputs": []
    },
    {
      "metadata": {
        "_cell_guid": "7abd52c3-4315-4414-89a3-432c85d826b1",
        "_uuid": "dd942428b528843048eac61ba2a8cd59932e2c74",
        "collapsed": true,
        "trusted": true
      },
      "cell_type": "code",
      "source": "from sklearn.ensemble import RandomForestRegressor\nfrom sklearn.metrics import mean_absolute_error\nfrom sklearn.model_selection import train_test_split\n\ncolumn_name_X, column_value_X, column_name_y, column_value_y = train_test_split(X, y, random_state = 0)\n\ndef get_mae(max_leaf_nodes, column_name_X, column_value_X, column_name_y, column_value_y):\n    \n    forest_model = RandomForestRegressor(max_leaf_nodes = max_leaf_nodes, random_state=0)\n    forest_model.fit(column_name_X, column_name_y)\n    forest_sales_price_prediction = forest_model.predict(column_value_X)\n    mae = mean_absolute_error(column_value_y, forest_sales_price_prediction)\n    \n    return mae",
      "execution_count": 9,
      "outputs": []
    },
    {
      "metadata": {
        "trusted": true,
        "collapsed": true,
        "_uuid": "36fe0e677629cad008939b4132e7247a1f2fbb08"
      },
      "cell_type": "code",
      "source": "for max_leaf_nodes in [51, 52, 53, 54, 55, 56, 57, 58, 59, 60, 70, 80, 85, 90, 100]:\n    my_mae = get_mae(max_leaf_nodes, column_name_X, column_value_X, column_name_y, column_value_y)\n    print(\"Max leaf nodes: %d  \\t\\t Mean Absolute Error:  %d\" %(max_leaf_nodes, my_mae))",
      "execution_count": null,
      "outputs": []
    },
    {
      "metadata": {
        "collapsed": true,
        "trusted": true,
        "_uuid": "9f21c97c105094ab5b333a068a3f7ffef4d43028"
      },
      "cell_type": "code",
      "source": "forest_model = RandomForestRegressor()\n\n# fit model\nforest_model.fit(X, y)\n\n# Predict values using model\nforest_sales_price_prediction = forest_model.predict(test_X)",
      "execution_count": 14,
      "outputs": []
    },
    {
      "metadata": {
        "_cell_guid": "90f49b84-fcdd-4258-97d3-09ba8f602fa2",
        "_uuid": "e6980add8b6353fbc7ff28076e56228c56d1c6c0",
        "trusted": true
      },
      "cell_type": "code",
      "source": "my_submission = pd.DataFrame({'Id': iowa_data_test.Id, 'SalePrice': forest_sales_price_prediction})\n# you could use any filename. We choose submission here\nmy_submission.to_csv('submission.csv', index=False)",
      "execution_count": 15,
      "outputs": []
    }
  ],
  "metadata": {
    "kernelspec": {
      "display_name": "Python 3",
      "language": "python",
      "name": "python3"
    },
    "language_info": {
      "name": "python",
      "version": "3.6.4",
      "mimetype": "text/x-python",
      "codemirror_mode": {
        "name": "ipython",
        "version": 3
      },
      "pygments_lexer": "ipython3",
      "nbconvert_exporter": "python",
      "file_extension": ".py"
    }
  },
  "nbformat": 4,
  "nbformat_minor": 1
}
