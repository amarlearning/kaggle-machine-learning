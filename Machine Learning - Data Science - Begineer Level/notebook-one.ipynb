{
  "cells": [
    {
      "metadata": {
        "_cell_guid": "e81ee64d-e474-4662-9036-ce23df615199",
        "_uuid": "b6269c0e8f417f82daf093dda8fa0da6d2c57d86"
      },
      "cell_type": "markdown",
      "source": "> Iowa's City data for house prices prediction using advanced regression techniques\n"
    },
    {
      "metadata": {
        "collapsed": true,
        "_kg_hide-input": true,
        "_cell_guid": "86b26423-563a-4fa1-a595-89e25ff93089",
        "_uuid": "1c728098629e1301643443b1341556a15c089b2b",
        "_kg_hide-output": true,
        "trusted": false
      },
      "cell_type": "code",
      "source": "import pandas as pd\n\niowa_file_path = '../input/train.csv'\niowa_data = pd.read_csv(iowa_file_path)",
      "execution_count": null,
      "outputs": []
    },
    {
      "metadata": {
        "_cell_guid": "3eeb4af0-0e55-4bf3-8df5-1954021d8bd3",
        "_uuid": "63314aad9dd3d847043f30aa3d456a1ac0861db5"
      },
      "cell_type": "markdown",
      "source": "To print the data summary use .describe() method of pandas"
    },
    {
      "metadata": {
        "_cell_guid": "37a1c36f-cd9d-482f-b7bf-d3c4f42f5949",
        "_uuid": "4432e14263d61953f0470cecbf0617a7256fb456",
        "trusted": false,
        "collapsed": true
      },
      "cell_type": "code",
      "source": "iowa_data.describe()",
      "execution_count": null,
      "outputs": []
    },
    {
      "metadata": {
        "_cell_guid": "32081912-9560-4390-8c79-a57ec80ddcd8",
        "_uuid": "e3ef522ee30feea246cd29cdb9a7d9d30c8c45d3"
      },
      "cell_type": "markdown",
      "source": "To view the column names of data set use *.columns* of pandas"
    },
    {
      "metadata": {
        "_kg_hide-output": true,
        "_kg_hide-input": true,
        "_cell_guid": "0efb441c-221b-4857-a3cc-76f611aa4d24",
        "_uuid": "f385aba1bf3248ad260132ec0a6d6b535203faab",
        "trusted": false,
        "collapsed": true
      },
      "cell_type": "code",
      "source": "print(iowa_data.columns)",
      "execution_count": null,
      "outputs": []
    },
    {
      "metadata": {
        "_cell_guid": "bc080fa7-573a-464b-b726-8ae48b523272",
        "_uuid": "afa14ec39bfd62dba290ff5df7c9cc1be69a6c79"
      },
      "cell_type": "markdown",
      "source": "If you want to view a short summary of data set used *.head()* method of pandas or you can pass a param to head method to view that # of rows,  *head(10)* to only view top 10 rows of dataset"
    },
    {
      "metadata": {
        "collapsed": true,
        "_cell_guid": "4fcac6f6-b3cb-4b9c-b7d3-ce2f21e9ed8d",
        "_uuid": "254be9821e52c2ebb3979720466c849aa996d3ab",
        "trusted": false
      },
      "cell_type": "code",
      "source": "iowa_data.head()",
      "execution_count": null,
      "outputs": []
    },
    {
      "metadata": {
        "_cell_guid": "1ce5611a-8e3a-4508-b783-0c261e62cc89",
        "_uuid": "2c55f2ebc01070346ca7cda9a0491284b364cdae"
      },
      "cell_type": "markdown",
      "source": "## **Selecting and Filtering Data Assignment**"
    },
    {
      "metadata": {
        "_cell_guid": "70c97949-4491-4d39-93cb-314c131a5b59",
        "_uuid": "ecbb31e9a1e0cd765000de541bfea3ce3ed01b33"
      },
      "cell_type": "markdown",
      "source": "Print all columns present in dataset"
    },
    {
      "metadata": {
        "collapsed": true,
        "_cell_guid": "1a46a419-096c-4601-baba-80b556f2d7d8",
        "_uuid": "cba1c5f3a1a8618120441142c3e0cfbc2a35c58e",
        "trusted": false
      },
      "cell_type": "code",
      "source": "iowa_data.columns",
      "execution_count": null,
      "outputs": []
    },
    {
      "metadata": {
        "_cell_guid": "fbbbd7a0-2650-4c60-ba08-5e886293ec4c",
        "_uuid": "8d1e5a554be16258f6604edadda1877c6ab4e632"
      },
      "cell_type": "markdown",
      "source": "Cretaed new var *lowa_sales_price* and inserted just sales price data into it and then printing the first 5 rows of sales price column"
    },
    {
      "metadata": {
        "collapsed": true,
        "_cell_guid": "4d923430-9bdf-44dd-9143-ba0b5d42f4d2",
        "_uuid": "54d9dd3da3520f69f8d3a91344113de218d9cc2f",
        "trusted": false
      },
      "cell_type": "code",
      "source": "iowa_sales_price = iowa_data.SalePrice\niowa_sales_price.head(5)",
      "execution_count": null,
      "outputs": []
    },
    {
      "metadata": {
        "_cell_guid": "0c90f2a0-987e-4394-b974-59f0daa40e66",
        "_uuid": "9ae8ae7a738a9b325c5c0bdb231775b02c0d5ed3"
      },
      "cell_type": "markdown",
      "source": "Picked two variables(columns) and store them to a new DataFrame"
    },
    {
      "metadata": {
        "collapsed": true,
        "_cell_guid": "f28fc01a-c8a0-4e57-8b39-4217e9d998c5",
        "_uuid": "6c81ebbb5f945aee1d1cfcb33cd235627e5fe6c6",
        "trusted": false
      },
      "cell_type": "code",
      "source": "columns_of_interest = ['MSSubClass', 'SalePrice']\ntwo_columns_of_iowa_data = iowa_data[columns_of_interest]",
      "execution_count": null,
      "outputs": []
    },
    {
      "metadata": {
        "_cell_guid": "4de06bf3-35c2-4956-8d7c-832b695313b4",
        "_uuid": "fa6e71d1a0442c0285738d3d85dbcc61b5410d27"
      },
      "cell_type": "markdown",
      "source": "Printing the dataset for just the two columns that caught our intrest"
    },
    {
      "metadata": {
        "collapsed": true,
        "_cell_guid": "76dae186-4758-4c8d-85b0-cc269b9567ce",
        "_uuid": "a10e6fcd2ce368447c8d17f5bf0aa17a41b70116",
        "trusted": false
      },
      "cell_type": "code",
      "source": "two_columns_of_iowa_data.describe()",
      "execution_count": null,
      "outputs": []
    },
    {
      "metadata": {
        "_cell_guid": "c06097d4-6f20-4c17-8c2f-fe300ef2fdbb",
        "_uuid": "3f60471f33f43128cd53bcf5cc08485d7edf6047"
      },
      "cell_type": "markdown",
      "source": "## Predicting sales price using DecisionTreeRegressor from scikit learn"
    },
    {
      "metadata": {
        "_cell_guid": "b1edabdd-8add-4265-bed8-39711cd5c41b",
        "_uuid": "e378eba40ca7447c00ae260fbc34c37b2cbec138"
      },
      "cell_type": "markdown",
      "source": "Defining the predicting target. we will be predicting values for *SalePrice* column."
    },
    {
      "metadata": {
        "collapsed": true,
        "_cell_guid": "b582b237-e350-4405-a490-11ce1e9c6882",
        "_uuid": "a72ab76ccc1365e951111c15ef41273fe62f3392",
        "trusted": false
      },
      "cell_type": "code",
      "source": "y = iowa_data.SalePrice",
      "execution_count": null,
      "outputs": []
    },
    {
      "metadata": {
        "_cell_guid": "b7fc1431-93dd-4769-a5f5-aaea998aae9d",
        "_uuid": "2815cb77c3e73ccde805c842278f0c1031bacefa"
      },
      "cell_type": "markdown",
      "source": "Defining the predictors, we will be using *LotArea, YearBuilt, 1stFlrSF, 2ndFlrSF, FullBath, BedroomAbvGr, TotRmsAbvGrd* for the prediction of *SalePrice* value."
    },
    {
      "metadata": {
        "collapsed": true,
        "_cell_guid": "33601866-2f6b-4b13-8374-51a47b6f36f0",
        "_uuid": "941202e32eb72ab3a119691051286ba2b8028a00",
        "trusted": false
      },
      "cell_type": "code",
      "source": "iowa_predictors = ['LotArea', 'YearBuilt', '1stFlrSF', '2ndFlrSF', 'FullBath', 'BedroomAbvGr', 'TotRmsAbvGrd']\nX = iowa_data[iowa_predictors]",
      "execution_count": null,
      "outputs": []
    },
    {
      "metadata": {
        "_cell_guid": "04d924d7-1c4d-457c-89b0-6cf4229f7b82",
        "_uuid": "fe0780c1ea452c7c604554a28903d188608d1062"
      },
      "cell_type": "markdown",
      "source": "Using scikit-learn to build model to predict *SalePrice* value."
    },
    {
      "metadata": {
        "collapsed": true,
        "_cell_guid": "c0e0d4fb-fb16-479b-af07-4e1e09a5e9a1",
        "_uuid": "69e918468225ecc89e02fa312efabfd8fdd1268b",
        "trusted": false
      },
      "cell_type": "code",
      "source": "from sklearn.tree import DecisionTreeRegressor",
      "execution_count": null,
      "outputs": []
    },
    {
      "metadata": {
        "_cell_guid": "aa64009f-2a33-41d9-a2e7-048697bdb6d1",
        "_uuid": "0aafa06c754069ba9e58017bf275b0ed8c30760e"
      },
      "cell_type": "markdown",
      "source": "Defining DecisionTreeRegressor Model "
    },
    {
      "metadata": {
        "collapsed": true,
        "_cell_guid": "972c87ad-0eb8-4cca-989f-9106c06304ab",
        "_uuid": "6c0efdc66eb10dd2cfe0192df9d94d9cc0d8b398",
        "trusted": false
      },
      "cell_type": "code",
      "source": "iowa_model = DecisionTreeRegressor()",
      "execution_count": null,
      "outputs": []
    },
    {
      "metadata": {
        "_cell_guid": "77acb704-9383-4695-8336-4771ddfafe2a",
        "_uuid": "d4ea710ad93baf83f84f786dd769c456532adc12"
      },
      "cell_type": "markdown",
      "source": "Fit Model: Capture patterns from provided data."
    },
    {
      "metadata": {
        "collapsed": true,
        "_cell_guid": "fb2322c8-6ca4-459b-a185-5dd5b8cbff1b",
        "_uuid": "bb228fb814e17aabdb598d164f51ebb2889c47f2",
        "trusted": false
      },
      "cell_type": "code",
      "source": "iowa_model.fit(X, y)",
      "execution_count": null,
      "outputs": []
    },
    {
      "metadata": {
        "_cell_guid": "83e386ea-6c0c-4eba-be14-a6a4e710a2c1",
        "_uuid": "a1fa19bd4c7e198f3510b18693639f43902c2c85"
      },
      "cell_type": "markdown",
      "source": "Predicting *SalePrice* value for the first 5 house"
    },
    {
      "metadata": {
        "collapsed": true,
        "_cell_guid": "db380be8-9dba-4425-9cf4-bc9f4dc47ab4",
        "_uuid": "50ffd3a1b148c24d48ab3e8ee4df1f342d025c2d",
        "trusted": false
      },
      "cell_type": "code",
      "source": "print(\"Making predictions for the following 5 houses : \")\nprint(X.head())\nprint(\"The predictions are : \")\nprint(iowa_model.predict(X.head()))",
      "execution_count": null,
      "outputs": []
    },
    {
      "metadata": {
        "_cell_guid": "b1ad2720-6361-4c04-b7e1-0bafce3d068f",
        "_uuid": "b7d3b52c0cba54387d6f13226dc4e7d61ab65413"
      },
      "cell_type": "markdown",
      "source": "we will calculate the Mean Absolute Error to measure the model quality"
    },
    {
      "metadata": {
        "collapsed": true,
        "_cell_guid": "17de8c62-d5b2-4eb1-8958-da4fde6521ca",
        "_uuid": "d0f2bde0481579fff969ea5523d6639cda94ec5d",
        "trusted": false
      },
      "cell_type": "code",
      "source": "from sklearn.metrics import mean_absolute_error\n\npredicted_home_prices = iowa_model.predict(X)\nmean_absolute_error(y, predicted_home_prices)",
      "execution_count": null,
      "outputs": []
    },
    {
      "metadata": {
        "_cell_guid": "504cacf7-b094-4685-aea5-acf3b05cb82f",
        "_uuid": "813a5ce20d5d69e6a9206b647876172f20394973"
      },
      "cell_type": "markdown",
      "source": "We will now split the data into two parts one is used for training and the other is used for validating model."
    },
    {
      "metadata": {
        "collapsed": true,
        "_cell_guid": "e2235987-8bff-4630-b9b7-289d5e5c4744",
        "_uuid": "695705c4b1f7f664142c8ccfd12333116217dae2",
        "trusted": false
      },
      "cell_type": "code",
      "source": "from sklearn.model_selection import train_test_split",
      "execution_count": null,
      "outputs": []
    },
    {
      "metadata": {
        "_cell_guid": "13d075c2-69d0-452d-835a-44a642272eef",
        "_uuid": "8e1806794e651565f3443fe6b9784a6751a1c66d"
      },
      "cell_type": "markdown",
      "source": "Split data into training and validation data, for both predictors and target. The split is based on a random number generator. Supplying a numeric value to. The random_state argument guarantees we get the same split every time we run this script."
    },
    {
      "metadata": {
        "collapsed": true,
        "_cell_guid": "ed0dfc66-f6cc-45bc-bac1-42a5bd1f8f95",
        "_uuid": "4af77d03bd155dd17a68ba4f2de635c13ff57909",
        "trusted": false
      },
      "cell_type": "code",
      "source": "column_name_X, column_value_X, column_name_y, column_value_y = train_test_split(X, y, random_state = 0)\n\n# Define model after splitting the data\niowa_split_model = DecisionTreeRegressor()\n\n# Fit model after splitting the data\niowa_split_model.fit(column_name_X, column_name_y)\n\n# get predicted sales prices on validation data\nsales_price_prediction = iowa_split_model.predict(column_value_X)\nprint(mean_absolute_error(column_value_y, sales_price_prediction))",
      "execution_count": null,
      "outputs": []
    },
    {
      "metadata": {
        "_cell_guid": "f79c3012-fd4b-4899-aa9a-220e2ac81b90",
        "_uuid": "672fa48c06ecfb7c652e145840483c2626578b3e"
      },
      "cell_type": "markdown",
      "source": "## Underfitting, Overfitting and Model Optimization\n\nMore read about above topics can be found [here](https://www.kaggle.com/dansbecker/underfitting-overfitting-and-model-optimization) .\n"
    },
    {
      "metadata": {
        "collapsed": true,
        "_cell_guid": "80d55653-d115-47f2-88a6-9b661563ee3c",
        "_uuid": "c804fda655e3ef65386765ba7329db0b875f4c1f",
        "trusted": false
      },
      "cell_type": "code",
      "source": "def get_mae(max_leaf_nodes, column_name_X, column_value_X, column_name_y, column_value_y):\n    \n    iowa_function_model = DecisionTreeRegressor(max_leaf_nodes = max_leaf_nodes, random_state=0)\n    iowa_function_model.fit(column_name_X, column_name_y)\n    sales_price_prediction = iowa_function_model.predict(column_value_X)\n    mae = mean_absolute_error(column_value_y, sales_price_prediction)\n    \n    return (mae)",
      "execution_count": null,
      "outputs": []
    },
    {
      "metadata": {
        "collapsed": true,
        "_cell_guid": "5d504ddd-06fa-4ff6-84f2-915d3dba526b",
        "_uuid": "c3df3066e0e18b6f74f5dad36fb0dfc2299f7fcd",
        "trusted": false
      },
      "cell_type": "code",
      "source": "# compare MAE with differing values of max_leaf_nodes\nfor max_leaf_nodes in [10, 20, 30, 40, 50, 60, 70, 80, 90, 100, 110, 120, 130, 140, 150]:\n    my_mae = get_mae(max_leaf_nodes, column_name_X, column_value_X, column_name_y, column_value_y)\n    print(\"Max leaf nodes: %d  \\t\\t Mean Absolute Error:  %d\" %(max_leaf_nodes, my_mae))",
      "execution_count": null,
      "outputs": []
    },
    {
      "metadata": {
        "_cell_guid": "06be1c25-3e7e-4522-85d4-549244514e12",
        "_uuid": "2b0204ec3e544ac7bbd8d983c4d099f988c7d936"
      },
      "cell_type": "markdown",
      "source": "Build a RandomForest similarly to how we built a decision tree in scikit-learn."
    },
    {
      "metadata": {
        "collapsed": true,
        "_cell_guid": "6cf48ee9-dfd9-43b7-9674-dfbc8cf4961b",
        "_uuid": "d7086fbb00a8d104cb44cbcc042b5f9f87177db0",
        "trusted": false
      },
      "cell_type": "code",
      "source": "from sklearn.ensemble import RandomForestRegressor\n\nforest_model = RandomForestRegressor()\n\nforest_model.fit(column_name_X, column_name_y)\nforest_sales_price_prediction = forest_model.predict(column_value_X)\n\nprint(mean_absolute_error(column_value_y, forest_sales_price_prediction))",
      "execution_count": null,
      "outputs": []
    }
  ],
  "metadata": {
    "kernelspec": {
      "display_name": "Python 3",
      "language": "python",
      "name": "python3"
    },
    "language_info": {
      "codemirror_mode": {
        "name": "ipython",
        "version": 3
      },
      "file_extension": ".py",
      "mimetype": "text/x-python",
      "nbconvert_exporter": "python",
      "name": "python",
      "version": "3.6.4",
      "pygments_lexer": "ipython3"
    }
  },
  "nbformat": 4,
  "nbformat_minor": 1
}
