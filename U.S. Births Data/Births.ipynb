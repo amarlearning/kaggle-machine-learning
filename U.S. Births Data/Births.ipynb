{
 "cells": [
  {
   "cell_type": "markdown",
   "metadata": {},
   "source": [
    "# U.S. Births\n",
    "\n",
    "This notebook contains data behind the story [Some People Are Too Superstitious To Have A Baby On Friday The 13th](http://fivethirtyeight.com/features/some-people-are-too-superstitious-to-have-a-baby-on-friday-the-13th/).\n",
    "\n",
    "File has the following structure:\n",
    "\n",
    "Header | Definition\n",
    "-------|---------\n",
    "`year` | Year\n",
    "`month` | Month\n",
    "`date_of_month` | Day number of the month\n",
    "`day_of_week` | Day of week, where 1 is Monday and 7 is Sunday\n",
    "`births` | Number of births"
   ]
  },
  {
   "cell_type": "code",
   "execution_count": 1,
   "metadata": {},
   "outputs": [],
   "source": [
    "file = open(\"births.csv\", \"r\")\n",
    "data_birth = file.read()\n",
    "data_split_birth = data_birth.split(\"\\n\")"
   ]
  },
  {
   "cell_type": "code",
   "execution_count": 4,
   "metadata": {},
   "outputs": [
    {
     "data": {
      "text/plain": [
       "{'1': 5789166,\n",
       " '2': 6446196,\n",
       " '3': 6322855,\n",
       " '4': 6288429,\n",
       " '5': 6233657,\n",
       " '6': 4562111,\n",
       " '7': 4079723}"
      ]
     },
     "execution_count": 4,
     "metadata": {},
     "output_type": "execute_result"
    }
   ],
   "source": [
    "days_counts = {}\n",
    "\n",
    "new_data = data_split_birth[1:len(data_split_birth)]\n",
    "\n",
    "for data in new_data:\n",
    "    row = data.split(\",\")\n",
    "    if row[3] in days_counts:\n",
    "        days_counts[row[3]] += int(row[4])\n",
    "    else:\n",
    "        days_counts[row[3]] = int(row[4])\n",
    "\n",
    "days_counts"
   ]
  }
 ],
 "metadata": {
  "kernelspec": {
   "display_name": "Python 3",
   "language": "python",
   "name": "python3"
  },
  "language_info": {
   "codemirror_mode": {
    "name": "ipython",
    "version": 3
   },
   "file_extension": ".py",
   "mimetype": "text/x-python",
   "name": "python",
   "nbconvert_exporter": "python",
   "pygments_lexer": "ipython3",
   "version": "3.5.2"
  }
 },
 "nbformat": 4,
 "nbformat_minor": 2
}
