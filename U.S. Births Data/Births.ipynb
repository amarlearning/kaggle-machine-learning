{
 "cells": [
  {
   "cell_type": "markdown",
   "metadata": {},
   "source": [
    "# U.S. Births\n",
    "\n",
    "This notebook contains data behind the story [Some People Are Too Superstitious To Have A Baby On Friday The 13th](http://fivethirtyeight.com/features/some-people-are-too-superstitious-to-have-a-baby-on-friday-the-13th/).\n",
    "\n",
    "File has the following structure:\n",
    "\n",
    "Header | Definition\n",
    "-------|---------\n",
    "`year` | Year\n",
    "`month` | Month\n",
    "`date_of_month` | Day number of the month\n",
    "`day_of_week` | Day of week, where 1 is Monday and 7 is Sunday\n",
    "`births` | Number of births\n",
    "\n",
    "\n",
    "### Tasks\n",
    "That's it for the guided steps. Here are some suggestions for next steps:\n",
    "1. Write a function that can calculate the min and max values for any dictionary that's passed in.\n",
    "2. Write a function that extracts the same values across years and calculates the differences between consecutive values to show if number of births is increasing or decreasing.\n",
    "    For example, how did the number of births on Saturday change each year between 1994 and 2003?\n",
    "3. Find a way to combine the CDC data with the SSA data, which you can find here. Specifically, brainstorm ways to deal with the overlapping time periods in the datasets."
   ]
  },
  {
   "cell_type": "code",
   "execution_count": 4,
   "metadata": {},
   "outputs": [],
   "source": [
    "def read_csv(file_name):\n",
    "    final_list = []\n",
    "    file = open(\"US_births_1994-2003_CDC_NCHS.csv\", \"r\")\n",
    "    birth_raw_data = file.read()\n",
    "    string_list = birth_raw_data.split(\"\\n\")\n",
    "    string_list = string_list[1: len(string_list)]\n",
    "    for data in string_list:\n",
    "        string_fields = data.split(\",\")\n",
    "        int_fields = list(map(int, string_fields))\n",
    "        final_list.append(int_fields)\n",
    "    return final_list"
   ]
  },
  {
   "cell_type": "code",
   "execution_count": 5,
   "metadata": {},
   "outputs": [],
   "source": [
    "def month_births(cdc_list):\n",
    "    births_per_month = {}\n",
    "    for data in cdc_list:\n",
    "        if data[1] in births_per_month:\n",
    "            births_per_month[data[1]] += data[4]\n",
    "        else:\n",
    "            births_per_month[data[1]] = data[4]\n",
    "    return births_per_month"
   ]
  },
  {
   "cell_type": "code",
   "execution_count": 6,
   "metadata": {},
   "outputs": [],
   "source": [
    "def dow_births(cdc_list):\n",
    "    births_per_week = {}\n",
    "    for data in cdc_list:\n",
    "        if data[3] in births_per_week:\n",
    "            births_per_week[data[3]] += data[4]\n",
    "        else:\n",
    "            births_per_week[data[3]] = data[4]\n",
    "    return births_per_week"
   ]
  },
  {
   "cell_type": "code",
   "execution_count": 7,
   "metadata": {},
   "outputs": [],
   "source": [
    "def calc_counts(cdc_list, column):\n",
    "    births_per_param = {}\n",
    "    for data in cdc_list:\n",
    "        if data[column] in births_per_param:\n",
    "            births_per_param[data[column]] += data[4]\n",
    "        else:\n",
    "            births_per_param[data[column]] = data[4]\n",
    "    return births_per_param"
   ]
  },
  {
   "cell_type": "code",
   "execution_count": 24,
   "metadata": {},
   "outputs": [],
   "source": [
    "def max_min_val_dict(rand_dict):\n",
    "    values_dict = list(rand_dict.values())\n",
    "    return max(values_dict), min(values_dict)"
   ]
  },
  {
   "cell_type": "code",
   "execution_count": 28,
   "metadata": {},
   "outputs": [],
   "source": [
    "cdc_list = read_csv(\"US_births_1994-2003_CDC_NCHS.csv\")\n",
    "\n",
    "cdc_year_births = calc_counts(cdc_list, 0)\n",
    "cdc_month_births = calc_counts(cdc_list, 1)\n",
    "cdc_dom_births = calc_counts(cdc_list, 2)\n",
    "cdc_dow_births = calc_counts(cdc_list, 3)\n",
    "\n",
    "max_val, min_val = max_min_val_dict(cdc_dow_births)"
   ]
  }
 ],
 "metadata": {
  "kernelspec": {
   "display_name": "Python 3",
   "language": "python",
   "name": "python3"
  },
  "language_info": {
   "codemirror_mode": {
    "name": "ipython",
    "version": 3
   },
   "file_extension": ".py",
   "mimetype": "text/x-python",
   "name": "python",
   "nbconvert_exporter": "python",
   "pygments_lexer": "ipython3",
   "version": "3.5.2"
  }
 },
 "nbformat": 4,
 "nbformat_minor": 2
}
