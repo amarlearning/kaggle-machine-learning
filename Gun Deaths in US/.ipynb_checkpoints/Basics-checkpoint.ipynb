{
 "cells": [
  {
   "cell_type": "code",
   "execution_count": 27,
   "metadata": {},
   "outputs": [],
   "source": [
    "import csv\n",
    "\n",
    "f = open(\"census.csv\", \"r\")\n",
    "census = list(csv.reader(f))\n",
    "\n",
    "fg = open(\"guns.csv\", \"r\")\n",
    "guns_data = list(csv.reader(fg))"
   ]
  },
  {
   "cell_type": "code",
   "execution_count": 28,
   "metadata": {
    "collapsed": true
   },
   "outputs": [],
   "source": [
    "race_counts = {\n",
    "     'Asian/Pacific Islander': 1326,\n",
    "     'Black': 23296,\n",
    "     'Hispanic': 9022,\n",
    "     'Native American/Native Alaskan': 917,\n",
    "     'White': 66237\n",
    "}\n",
    "\n",
    "mapping = {\n",
    "    'Asian/Pacific Islander' : 15834141,\n",
    "    'Black' : 40250635,\n",
    "    'Native American/Native Alaskan' : 3739506,\n",
    "    'Hispanic' : 44618105,\n",
    "    'White' : 197318956\n",
    "}"
   ]
  },
  {
   "cell_type": "code",
   "execution_count": 29,
   "metadata": {},
   "outputs": [
    {
     "data": {
      "text/plain": [
       "{'Asian/Pacific Islander': 8.374309664161762,\n",
       " 'Black': 57.8773477735196,\n",
       " 'Hispanic': 20.220491210910907,\n",
       " 'Native American/Native Alaskan': 24.521955573811088,\n",
       " 'White': 33.56849303419181}"
      ]
     },
     "execution_count": 29,
     "metadata": {},
     "output_type": "execute_result"
    }
   ],
   "source": [
    "race_per_hundredk = {}\n",
    "for key, value in race_counts.items():\n",
    "    race_per_hundredk[key] = (race_counts[key] / mapping[key]) * 100000\n",
    "\n",
    "race_per_hundredk"
   ]
  },
  {
   "cell_type": "code",
   "execution_count": 36,
   "metadata": {},
   "outputs": [],
   "source": [
    "intents = [row[3] for row in guns_data]\n",
    "races = [row[7] for row in guns_data]"
   ]
  },
  {
   "cell_type": "code",
   "execution_count": 40,
   "metadata": {},
   "outputs": [
    {
     "data": {
      "text/plain": [
       "{'Asian/Pacific Islander': 559,\n",
       " 'Black': 19510,\n",
       " 'Hispanic': 5634,\n",
       " 'Native American/Native Alaskan': 326,\n",
       " 'White': 9147}"
      ]
     },
     "execution_count": 40,
     "metadata": {},
     "output_type": "execute_result"
    }
   ],
   "source": [
    "homicide_race_counts = {}\n",
    "\n",
    "for i, race in enumerate(races):\n",
    "    if intents[i] == 'Homicide':\n",
    "        if race in homicide_race_counts:\n",
    "            homicide_race_counts[race] += 1\n",
    "        else:\n",
    "            homicide_race_counts[race] = 1\n",
    "\n",
    "homicide_race_counts"
   ]
  },
  {
   "cell_type": "code",
   "execution_count": 41,
   "metadata": {},
   "outputs": [
    {
     "data": {
      "text/plain": [
       "{'Asian/Pacific Islander': 3.530346230970155,\n",
       " 'Black': 48.471284987180944,\n",
       " 'Hispanic': 12.627161104219914,\n",
       " 'Native American/Native Alaskan': 8.717729026240365,\n",
       " 'White': 4.6356417981453335}"
      ]
     },
     "execution_count": 41,
     "metadata": {},
     "output_type": "execute_result"
    }
   ],
   "source": [
    "for key, value in homicide_race_counts.items():\n",
    "    homicide_race_counts[key] = (homicide_race_counts[key] / mapping[key]) * 100000\n",
    "\n",
    "homicide_race_counts"
   ]
  },
  {
   "cell_type": "markdown",
   "metadata": {},
   "source": [
    "The `homocide_race_count` contains the number of deaths by guns where intent == `Homo`"
   ]
  }
 ],
 "metadata": {
  "kernelspec": {
   "display_name": "Python 3",
   "language": "python",
   "name": "python3"
  },
  "language_info": {
   "codemirror_mode": {
    "name": "ipython",
    "version": 2
   },
   "file_extension": ".py",
   "mimetype": "text/x-python",
   "name": "python",
   "nbconvert_exporter": "python",
   "pygments_lexer": "ipython2",
   "version": "2.7.15rc1"
  }
 },
 "nbformat": 4,
 "nbformat_minor": 1
}
