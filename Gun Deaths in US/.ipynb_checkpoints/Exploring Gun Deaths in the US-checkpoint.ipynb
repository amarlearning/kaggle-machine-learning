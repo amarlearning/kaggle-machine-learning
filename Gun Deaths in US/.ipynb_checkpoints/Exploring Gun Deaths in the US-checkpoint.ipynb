{
 "cells": [
  {
   "cell_type": "code",
   "execution_count": 4,
   "metadata": {},
   "outputs": [],
   "source": [
    "import csv\n",
    "from datetime import datetime\n",
    "\n",
    "def read_data(filename):\n",
    "    f = open(filename, 'r')\n",
    "    return list(csv.reader(f))"
   ]
  },
  {
   "cell_type": "code",
   "execution_count": 5,
   "metadata": {},
   "outputs": [
    {
     "name": "stdout",
     "output_type": "stream",
     "text": [
      "['', 'year', 'month', 'intent', 'police', 'sex', 'age', 'race', 'hispanic', 'place', 'education']\n"
     ]
    }
   ],
   "source": [
    "guns_data = read_data(\"guns.csv\")\n",
    "headers, guns_data = guns_data[0], guns_data[1:]\n",
    "print(headers)"
   ]
  },
  {
   "cell_type": "code",
   "execution_count": 6,
   "metadata": {},
   "outputs": [],
   "source": [
    "def column_to_list(index):\n",
    "    return [row[index] for row in guns_data]\n",
    "\n",
    "def column_value_count(index):\n",
    "    local_dict = {}\n",
    "    column = column_to_list(index)\n",
    "    for value in column:\n",
    "        if value in local_dict:\n",
    "            local_dict[value] += 1\n",
    "        else:\n",
    "            local_dict[value] = 1\n",
    "    return local_dict"
   ]
  },
  {
   "cell_type": "code",
   "execution_count": 7,
   "metadata": {},
   "outputs": [],
   "source": [
    "date_counts = {}\n",
    "dates = [datetime(year = int(data[1]), month = int(data[2]), day = 1) for data in guns_data]\n",
    "\n",
    "for date in dates:\n",
    "    if date in date_counts:\n",
    "        date_counts[date] += 1\n",
    "    else:\n",
    "        date_counts[date] = 1"
   ]
  },
  {
   "cell_type": "code",
   "execution_count": 8,
   "metadata": {},
   "outputs": [],
   "source": [
    "year_counts = column_value_count(1)\n",
    "race_counts = column_value_count(7)\n",
    "sex_counts = column_value_count(5)"
   ]
  },
  {
   "cell_type": "code",
   "execution_count": null,
   "metadata": {
    "collapsed": true
   },
   "outputs": [],
   "source": []
  }
 ],
 "metadata": {
  "kernelspec": {
   "display_name": "Python 3",
   "language": "python",
   "name": "python3"
  },
  "language_info": {
   "codemirror_mode": {
    "name": "ipython",
    "version": 2
   },
   "file_extension": ".py",
   "mimetype": "text/x-python",
   "name": "python",
   "nbconvert_exporter": "python",
   "pygments_lexer": "ipython2",
   "version": "2.7.15rc1"
  }
 },
 "nbformat": 4,
 "nbformat_minor": 1
}
