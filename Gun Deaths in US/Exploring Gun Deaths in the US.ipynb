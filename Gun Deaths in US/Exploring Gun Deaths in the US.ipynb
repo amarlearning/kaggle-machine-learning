{
 "cells": [
  {
   "cell_type": "markdown",
   "metadata": {},
   "source": [
    "## Exploring Gun Deaths in the US\n",
    "\n",
    "#### Findings based on Gun Deaths in US\n",
    "1. No. of people died per 100 Thousand based on race are:\n",
    "```JSON\n",
    "{\n",
    "    'Asian/Pacific Islander': 8.374309664161762,\n",
    "    'Black': 57.8773477735196,\n",
    "    'Hispanic': 20.220491210910907,\n",
    "    'Native American/Native Alaskan': 24.521955573811088,\n",
    "    'White': 33.56849303419181\n",
    "}\n",
    "```\n",
    "2. No. of people died per 100 Thousand based on race where intent was Homocide are:\n",
    "```JSON\n",
    "{\n",
    "    'Asian/Pacific Islander': 3.530346230970155,\n",
    "    'Black': 48.471284987180944,\n",
    "    'Hispanic': 12.627161104219914,\n",
    "    'Native American/Native Alaskan': 8.717729026240365,\n",
    "    'White': 4.6356417981453335\n",
    "}\n",
    "```\n",
    "3. Figure out the link, if any, between month and homicide rate.\n",
    "```JSON\n",
    "{\n",
    "    '01': 2829,\n",
    "    '02': 2178,\n",
    "    '03': 2780,\n",
    "    '04': 2845,\n",
    "    '05': 2976,\n",
    "    '06': 3130,\n",
    "    '07': 3269,\n",
    "    '08': 3125,\n",
    "    '09': 2966,\n",
    "    '10': 2968,\n",
    "    '11': 2919,\n",
    "    '12': 3191\n",
    "}\n",
    "```\n",
    "4. Explore the homicide rate by gender.\n",
    "```JSON\n",
    "{\n",
    "    'F': 1.7402680650238256,\n",
    "    'M': 9.652933024735729\n",
    "}\n",
    "```\n",
    "5. Explore the rates of other intents, like Accidental, by gender and race.\n",
    "6. Find out if gun death rates correlate to location and education.\n"
   ]
  },
  {
   "cell_type": "code",
   "execution_count": 121,
   "metadata": {},
   "outputs": [],
   "source": [
    "import csv\n",
    "from datetime import datetime\n",
    "\n",
    "def read_data(filename):\n",
    "    f = open(filename, 'r')\n",
    "    return list(csv.reader(f))"
   ]
  },
  {
   "cell_type": "code",
   "execution_count": 122,
   "metadata": {},
   "outputs": [],
   "source": [
    "guns_data = read_data(\"guns.csv\")\n",
    "census_data = read_data(\"census.csv\")\n",
    "guns_headers, guns_data = guns_data[0], guns_data[1:]\n",
    "census_header, census_data = census_data[0], census_data[1]\n",
    "\n",
    "mapping = {\n",
    "    'Asian/Pacific Islander' : 15834141.0,\n",
    "    'Black' : 40250635.0,\n",
    "    'Native American/Native Alaskan' : 3739506.0,\n",
    "    'Hispanic' : 44618105.0,\n",
    "    'White' : 197318956.0\n",
    "}"
   ]
  },
  {
   "cell_type": "code",
   "execution_count": 123,
   "metadata": {},
   "outputs": [],
   "source": [
    "def column_to_list(index):\n",
    "    return [row[index] for row in guns_data]\n",
    "\n",
    "def column_value_count(index):\n",
    "    local_dict = {}\n",
    "    column = column_to_list(index)\n",
    "    for value in column:\n",
    "        if value in local_dict:\n",
    "            local_dict[value] += 1\n",
    "        else:\n",
    "            local_dict[value] = 1\n",
    "    return local_dict"
   ]
  },
  {
   "cell_type": "code",
   "execution_count": 124,
   "metadata": {},
   "outputs": [],
   "source": [
    "date_counts = {}\n",
    "dates = [datetime(year = int(data[1]), month = int(data[2]), day = 1) for data in guns_data]\n",
    "\n",
    "for date in dates:\n",
    "    if date in date_counts:\n",
    "        date_counts[date] += 1\n",
    "    else:\n",
    "        date_counts[date] = 1"
   ]
  },
  {
   "cell_type": "code",
   "execution_count": 125,
   "metadata": {},
   "outputs": [],
   "source": [
    "intents_list = column_to_list(3)\n",
    "races_list = column_to_list(7)\n",
    "month_list = column_to_list(2)\n",
    "gender_list = column_to_list(5)\n",
    "\n",
    "year_counts = column_value_count(1)\n",
    "race_counts = column_value_count(7)\n",
    "sex_counts = column_value_count(5)"
   ]
  },
  {
   "cell_type": "code",
   "execution_count": 126,
   "metadata": {
    "scrolled": true
   },
   "outputs": [],
   "source": [
    "race_killed_per_hundredk = {}\n",
    "for key, value in race_counts.items():\n",
    "    race_killed_per_hundredk[key] = (race_counts[key] / mapping[key]) * 100000"
   ]
  },
  {
   "cell_type": "code",
   "execution_count": 127,
   "metadata": {},
   "outputs": [],
   "source": [
    "homicide_race_counts = {}\n",
    "homicide_race_killed_per_hundredk = {}\n",
    "\n",
    "for i, race in enumerate(races_list):\n",
    "    if intents_list[i] == 'Homicide':\n",
    "        if race in homicide_race_counts:\n",
    "            homicide_race_counts[race] += 1\n",
    "        else:\n",
    "            homicide_race_counts[race] = 1\n",
    "\n",
    "for key, value in homicide_race_counts.items():\n",
    "    homicide_race_killed_per_hundredk[key] = (homicide_race_counts[key] / mapping[key]) * 100000"
   ]
  },
  {
   "cell_type": "code",
   "execution_count": 128,
   "metadata": {},
   "outputs": [],
   "source": [
    "homocide_month_counts = {}\n",
    "\n",
    "for i, month in enumerate(month_list):\n",
    "    if intents_list[i] == 'Homicide':\n",
    "        if month in homocide_month_counts:\n",
    "            homocide_month_counts[month] += 1\n",
    "        else:\n",
    "            homocide_month_counts[month] = 1"
   ]
  },
  {
   "cell_type": "code",
   "execution_count": 129,
   "metadata": {},
   "outputs": [],
   "source": [
    "homocide_gender_counts = {}\n",
    "homicide_gender_killed_per_hundredk = {}\n",
    "\n",
    "for i, gender in enumerate(gender_list):\n",
    "    if intents_list[i] == 'Homicide':\n",
    "        if gender in homocide_gender_counts:\n",
    "            homocide_gender_counts[gender] += 1\n",
    "        else:\n",
    "            homocide_gender_counts[gender] = 1\n",
    "\n",
    "for key, value in homocide_gender_counts.items():\n",
    "    homicide_gender_killed_per_hundredk[key] = (homocide_gender_counts[key] / float(census_data[9])) * 100000"
   ]
  }
 ],
 "metadata": {
  "kernelspec": {
   "display_name": "Python 3",
   "language": "python",
   "name": "python3"
  },
  "language_info": {
   "codemirror_mode": {
    "name": "ipython",
    "version": 2
   },
   "file_extension": ".py",
   "mimetype": "text/x-python",
   "name": "python",
   "nbconvert_exporter": "python",
   "pygments_lexer": "ipython2",
   "version": "2.7.15rc1"
  }
 },
 "nbformat": 4,
 "nbformat_minor": 1
}
